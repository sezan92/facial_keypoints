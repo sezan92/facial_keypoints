{
 "cells": [
  {
   "cell_type": "markdown",
   "metadata": {},
   "source": [
    "## Keypoint Detecton- GradCam"
   ]
  },
  {
   "cell_type": "markdown",
   "metadata": {},
   "source": [
    "In this blog, I am showing, how can we ensure , if our model is truly learning features from the image. For this , I am using - a bit modified- *** GradCam ***"
   ]
  },
  {
   "cell_type": "markdown",
   "metadata": {},
   "source": [
    "### Gradcam for dummies- like me "
   ]
  },
  {
   "cell_type": "markdown",
   "metadata": {},
   "source": [
    "For people like me , In simple terms, Gradcam is some lines of codes to show which features or parts of the images **activates** to a particular layer when you feed into it. The most famouse example is this following image"
   ]
  },
  {
   "cell_type": "markdown",
   "metadata": {},
   "source": [
    "![gcam_cat](newgcam_heatmap_overlaid_283_cat_dog.png)"
   ]
  },
  {
   "cell_type": "markdown",
   "metadata": {},
   "source": [
    "Here the image shows, the parts of the image, which gets activated when it classifies \"cat\". [link](https://arxiv.org/abs/1610.02391)"
   ]
  },
  {
   "cell_type": "markdown",
   "metadata": {},
   "source": [
    "### Ok, lets get it done!"
   ]
  },
  {
   "cell_type": "code",
   "execution_count": null,
   "metadata": {},
   "outputs": [],
   "source": [
    "import copy\n",
    "import os.path as osp\n",
    "\n",
    "import click\n",
    "import cv2\n",
    "import matplotlib.cm as cm\n",
    "import numpy as np\n",
    "import torch\n",
    "import torch.nn.functional as F\n",
    "from torchvision import models, transforms\n",
    "\n",
    "from grad_cam import (\n",
    "    GradCAM,\n",
    "    GuidedBackPropagation\n",
    ")\n"
   ]
  },
  {
   "cell_type": "code",
   "execution_count": 6,
   "metadata": {},
   "outputs": [],
   "source": [
    "import IPython"
   ]
  },
  {
   "cell_type": "code",
   "execution_count": 7,
   "metadata": {},
   "outputs": [],
   "source": [
    "def imshow(img):\n",
    "    _,ret = cv2.imencode('.jpg', img) \n",
    "    i = IPython.display.Image(data=ret)\n",
    "    IPython.display.display(i)"
   ]
  },
  {
   "cell_type": "code",
   "execution_count": 8,
   "metadata": {},
   "outputs": [],
   "source": [
    "\n",
    "def get_device(cuda):\n",
    "    cuda = cuda and torch.cuda.is_available()\n",
    "    device = torch.device(\"cuda\" if cuda else \"cpu\")\n",
    "    if cuda:\n",
    "        current_device = torch.cuda.current_device()\n",
    "        print(\"Device:\", torch.cuda.get_device_name(current_device))\n",
    "    else:\n",
    "        print(\"Device: CPU\")\n",
    "    return device"
   ]
  },
  {
   "cell_type": "code",
   "execution_count": 9,
   "metadata": {},
   "outputs": [],
   "source": [
    "def load_images(image_paths):\n",
    "    images = []\n",
    "    raw_images = []\n",
    "    print(\"Images:\")\n",
    "    for i, image_path in enumerate(image_paths):\n",
    "        print(\"\\t#{}: {}\".format(i, image_path))\n",
    "        image, raw_image = preprocess(image_path)\n",
    "        images.append(image)\n",
    "        raw_images.append(raw_image)\n",
    "    return images, raw_images\n"
   ]
  },
  {
   "cell_type": "code",
   "execution_count": 10,
   "metadata": {},
   "outputs": [],
   "source": [
    "def get_classtable():\n",
    "    classes = []\n",
    "    with open(\"samples/synset_words.txt\") as lines:\n",
    "        for line in lines:\n",
    "            line = line.strip().split(\" \", 1)[1]\n",
    "            line = line.split(\", \", 1)[0].replace(\" \", \"_\")\n",
    "            classes.append(line)\n",
    "    return classes"
   ]
  },
  {
   "cell_type": "code",
   "execution_count": 11,
   "metadata": {},
   "outputs": [],
   "source": [
    "def preprocess(image_path):\n",
    "    raw_image = cv2.imread(image_path)\n",
    "    raw_image = cv2.resize(raw_image, (9))\n",
    "    image = transforms.Compose(\n",
    "        [\n",
    "            transforms.ToTensor(),\n",
    "            transforms.Normalize(mean=[0.485, 0.456, 0.406], std=[0.229, 0.224, 0.225]),\n",
    "        ]\n",
    "    )(raw_image[..., ::-1].copy())\n",
    "    return image, raw_image"
   ]
  },
  {
   "cell_type": "code",
   "execution_count": 30,
   "metadata": {},
   "outputs": [],
   "source": [
    "def save_gradient(filename, gradient):\n",
    "    gradient = gradient.cpu().numpy().transpose(1, 2, 0)\n",
    "    gradient -= gradient.min()\n",
    "    gradient /= gradient.max()\n",
    "    gradient *= 255.0\n",
    "    imshow(gradient)\n",
    "    cv2.imwrite(filename, np.uint8(gradient))\n",
    "\n",
    "\n",
    "def save_gradcam(filename, gcam, raw_image, paper_cmap=False):\n",
    "    gcam = gcam.cpu().numpy()\n",
    "    cmap = cm.jet_r(gcam)[..., :3] * 255.0\n",
    "    if paper_cmap:\n",
    "        alpha = gcam[..., None]\n",
    "        gcam = alpha * cmap + (1 - alpha) * raw_image\n",
    "    else:\n",
    "        gcam = (cmap.astype(np.float) + raw_image.astype(np.float)) / 2\n",
    "    imshow(gcam)\n",
    "    cv2.imwrite(filename, np.uint8(gcam))\n",
    "\n",
    "\n",
    "def save_sensitivity(filename, maps):\n",
    "    maps = maps.cpu().numpy()\n",
    "    scale = max(maps[maps > 0].max(), -maps[maps <= 0].min())\n",
    "    maps = maps / scale * 0.5\n",
    "    maps += 0.5\n",
    "    maps = cm.bwr_r(maps)[..., :3]\n",
    "    maps = np.uint8(maps * 255.0)\n",
    "    maps = cv2.resize(maps, (224, 224), interpolation=cv2.INTER_NEAREST)\n",
    "    cv2.imwrite(filename, maps)\n",
    "    imshow(maps)\n",
    "\n"
   ]
  },
  {
   "cell_type": "code",
   "execution_count": 31,
   "metadata": {},
   "outputs": [],
   "source": [
    "cuda=True"
   ]
  },
  {
   "cell_type": "code",
   "execution_count": 32,
   "metadata": {},
   "outputs": [],
   "source": [
    "image_paths=[\"../image.npy\"]"
   ]
  },
  {
   "cell_type": "code",
   "execution_count": 33,
   "metadata": {},
   "outputs": [],
   "source": [
    "topk=1"
   ]
  },
  {
   "cell_type": "code",
   "execution_count": 34,
   "metadata": {},
   "outputs": [],
   "source": [
    "output_dir=\"output_dir/\""
   ]
  },
  {
   "cell_type": "code",
   "execution_count": 35,
   "metadata": {},
   "outputs": [],
   "source": [
    "import torch\n",
    "from torch.autograd import Variable\n",
    "import torch.nn as nn\n",
    "import torch.nn.functional as F\n",
    "import numpy as np"
   ]
  },
  {
   "cell_type": "code",
   "execution_count": 36,
   "metadata": {},
   "outputs": [],
   "source": [
    "class SezanNet(nn.Module):\n",
    "    def __init__(self):\n",
    "        super(SezanNet, self).__init__()\n",
    "        self.conv1 = nn.Conv2d(in_channels=1, out_channels=32, kernel_size=(4, 4),stride=2) ## 32x47x47\n",
    "        self.dropout=nn.Dropout()\n",
    "        self.conv2 = nn.Conv2d(in_channels=32, out_channels=64, kernel_size=(4, 4),stride=2) # 64x22x22\n",
    "        self.conv3 = nn.Conv2d(in_channels=64,out_channels=128,kernel_size=(3,3),stride=2) # 128x10x10\n",
    "        self.conv4 = nn.Conv2d(in_channels=128,out_channels=256,kernel_size=(1,1),stride=2) # 256x5x5\n",
    "        \n",
    "        self.relu = nn.ReLU()\n",
    "        self.fc1 = nn.Linear(in_features=256*5*5,out_features=30)\n",
    "        \n",
    "    def forward(self,x):\n",
    "        x = self.dropout(self.relu(self.conv1(x)))\n",
    "        x = self.dropout(self.relu(self.conv2(x)))\n",
    "        x = self.dropout(self.relu(self.conv3(x)))\n",
    "        x = self.dropout(self.relu(self.conv4(x)))\n",
    "        x = x.view(x.size(0),-1)\n",
    "        x = self.fc1(x)\n",
    "        return x\n",
    "        "
   ]
  },
  {
   "cell_type": "code",
   "execution_count": 37,
   "metadata": {},
   "outputs": [],
   "source": [
    "model=SezanNet()"
   ]
  },
  {
   "cell_type": "code",
   "execution_count": 38,
   "metadata": {},
   "outputs": [],
   "source": [
    "model.load_state_dict(torch.load(\"../network_state_dict.pkl\"))"
   ]
  },
  {
   "cell_type": "code",
   "execution_count": 39,
   "metadata": {},
   "outputs": [],
   "source": [
    "raw_image = np.load(\"../image.npy\")"
   ]
  },
  {
   "cell_type": "code",
   "execution_count": 40,
   "metadata": {},
   "outputs": [],
   "source": [
    "image=raw_image.copy()"
   ]
  },
  {
   "cell_type": "code",
   "execution_count": 41,
   "metadata": {},
   "outputs": [],
   "source": [
    "image = image.reshape(-1,96,96)"
   ]
  },
  {
   "cell_type": "code",
   "execution_count": 42,
   "metadata": {},
   "outputs": [
    {
     "data": {
      "text/plain": [
       "(1, 96, 96)"
      ]
     },
     "execution_count": 42,
     "metadata": {},
     "output_type": "execute_result"
    }
   ],
   "source": [
    "image.shape"
   ]
  },
  {
   "cell_type": "code",
   "execution_count": 43,
   "metadata": {},
   "outputs": [],
   "source": [
    "images = torch.from_numpy(image)"
   ]
  },
  {
   "cell_type": "code",
   "execution_count": 44,
   "metadata": {},
   "outputs": [
    {
     "data": {
      "text/plain": [
       "tensor([[[142., 142., 142.,  ...,  24.,  24.,  24.],\n",
       "         [142., 142., 142.,  ...,  24.,  24.,  24.],\n",
       "         [143., 142., 142.,  ...,  24.,  24.,  23.],\n",
       "         ...,\n",
       "         [128., 127., 128.,  ...,  66.,  63.,  60.],\n",
       "         [128., 127., 128.,  ...,  64.,  61.,  58.],\n",
       "         [127., 128., 128.,  ...,  62.,  60.,  58.]]], dtype=torch.float64)"
      ]
     },
     "execution_count": 44,
     "metadata": {},
     "output_type": "execute_result"
    }
   ],
   "source": [
    "images"
   ]
  },
  {
   "cell_type": "code",
   "execution_count": 45,
   "metadata": {},
   "outputs": [],
   "source": [
    "images=images.reshape(-1,1,96,96)"
   ]
  },
  {
   "cell_type": "code",
   "execution_count": 46,
   "metadata": {},
   "outputs": [],
   "source": [
    "images = images/255"
   ]
  },
  {
   "cell_type": "code",
   "execution_count": 47,
   "metadata": {},
   "outputs": [
    {
     "data": {
      "text/plain": [
       "tensor([[[[0.5569, 0.5569, 0.5569,  ..., 0.0941, 0.0941, 0.0941],\n",
       "          [0.5569, 0.5569, 0.5569,  ..., 0.0941, 0.0941, 0.0941],\n",
       "          [0.5608, 0.5569, 0.5569,  ..., 0.0941, 0.0941, 0.0902],\n",
       "          ...,\n",
       "          [0.5020, 0.4980, 0.5020,  ..., 0.2588, 0.2471, 0.2353],\n",
       "          [0.5020, 0.4980, 0.5020,  ..., 0.2510, 0.2392, 0.2275],\n",
       "          [0.4980, 0.5020, 0.5020,  ..., 0.2431, 0.2353, 0.2275]]]],\n",
       "       dtype=torch.float64)"
      ]
     },
     "execution_count": 47,
     "metadata": {},
     "output_type": "execute_result"
    }
   ],
   "source": [
    "images"
   ]
  },
  {
   "cell_type": "raw",
   "metadata": {},
   "source": [
    "device = get_device(cuda)\n",
    "\n",
    "model.eval()\n",
    "\n",
    "# Images\n",
    "\n",
    "images = torch.stack(tuple(images)).to(device)"
   ]
  },
  {
   "cell_type": "code",
   "execution_count": 48,
   "metadata": {},
   "outputs": [],
   "source": [
    "images=images.float()"
   ]
  },
  {
   "cell_type": "code",
   "execution_count": 49,
   "metadata": {},
   "outputs": [
    {
     "name": "stdout",
     "output_type": "stream",
     "text": [
      "Vanilla Backpropagation:\n"
     ]
    }
   ],
   "source": [
    "\"\"\"\n",
    "Common usage:\n",
    "1. Wrap your model with visualization classes defined in grad_cam.py\n",
    "2. Run forward() with images\n",
    "3. Run backward() with a list of specific classes\n",
    "4. Run generate() to export results\n",
    "\"\"\"\n",
    "\n",
    "# =========================================================================\n",
    "print(\"Vanilla Backpropagation:\")\n",
    "\n",
    "bp = BackPropagation(model=model)\n",
    "keypoints = bp.forward(images)  # sorted"
   ]
  },
  {
   "cell_type": "raw",
   "metadata": {},
   "source": [
    "bp.backward()"
   ]
  },
  {
   "cell_type": "code",
   "execution_count": 50,
   "metadata": {},
   "outputs": [
    {
     "data": {
      "text/plain": [
       "tensor([[ 0.3991, -0.1617, -0.3830, -0.2123,  0.2350, -0.2453,  0.5630, -0.2603,\n",
       "         -0.2257, -0.1832, -0.5584, -0.1751,  0.1013, -0.3660,  0.7163, -0.4049,\n",
       "         -0.2087, -0.3082, -0.7137, -0.2871, -0.0958,  0.3878,  0.4939,  0.5568,\n",
       "         -0.3131,  0.6424,  0.0499,  0.6254, -0.0738,  0.7241]],\n",
       "       grad_fn=<ThAddmmBackward>)"
      ]
     },
     "execution_count": 50,
     "metadata": {},
     "output_type": "execute_result"
    }
   ],
   "source": [
    "keypoints"
   ]
  },
  {
   "cell_type": "code",
   "execution_count": 51,
   "metadata": {},
   "outputs": [
    {
     "data": {
      "image/png": "[encoded data removed]",
      "text/plain": [
       "<IPython.core.display.Image object>"
      ]
     },
     "metadata": {},
     "output_type": "display_data"
    }
   ],
   "source": [
    "for i in range(topk):\n",
    "    bp.backward(ids=keypoints)\n",
    "    gradients = bp.generate()\n",
    "\n",
    "    # Save results as image files\n",
    "    for j in range(len(images)):\n",
    "        \n",
    "        save_gradient(\n",
    "            filename=osp.join(\n",
    "                output_dir,\n",
    "                \"{}-{}.png\".format(j,i)\n",
    "            ),\n",
    "            gradient=gradients[j],\n",
    "        )\n",
    "\n",
    "# Remove all the hook function in the \"model\"\n",
    "bp.remove_hook()"
   ]
  },
  {
   "cell_type": "code",
   "execution_count": 52,
   "metadata": {},
   "outputs": [
    {
     "name": "stdout",
     "output_type": "stream",
     "text": [
      "\n",
      "conv1\n",
      "dropout\n",
      "conv2\n",
      "conv3\n",
      "conv4\n",
      "relu\n",
      "fc1\n"
     ]
    }
   ],
   "source": [
    "for name,module in model.named_modules():\n",
    "    print(name)"
   ]
  },
  {
   "cell_type": "code",
   "execution_count": 53,
   "metadata": {},
   "outputs": [],
   "source": [
    "target_layer=\"conv1\""
   ]
  },
  {
   "cell_type": "code",
   "execution_count": 54,
   "metadata": {},
   "outputs": [
    {
     "name": "stdout",
     "output_type": "stream",
     "text": [
      "Grad-CAM/Guided Backpropagation/Guided Grad-CAM:\n"
     ]
    },
    {
     "data": {
      "image/png": "[encoded data removed]",
      "text/plain": [
       "<IPython.core.display.Image object>"
      ]
     },
     "metadata": {},
     "output_type": "display_data"
    },
    {
     "data": {
      "image/png": "[encoded data removed]",
      "text/plain": [
       "<IPython.core.display.Image object>"
      ]
     },
     "metadata": {},
     "output_type": "display_data"
    },
    {
     "data": {
      "image/png": "[encoded data removed]",
      "text/plain": [
       "<IPython.core.display.Image object>"
      ]
     },
     "metadata": {},
     "output_type": "display_data"
    }
   ],
   "source": [
    "print(\"Grad-CAM/Guided Backpropagation/Guided Grad-CAM:\")\n",
    "\n",
    "gcam = GradCAM(model=model)\n",
    "_ = gcam.forward(images)\n",
    "\n",
    "gbp = GuidedBackPropagation(model=model)\n",
    "_ = gbp.forward(images)\n",
    "\n",
    "for i in range(topk):\n",
    "    # Guided Backpropagation\n",
    "    gbp.backward(keypoints)\n",
    "    gradients = gbp.generate()\n",
    "\n",
    "    # Grad-CAM\n",
    "    gcam.backward(keypoints)\n",
    "    regions = gcam.generate(target_layer=target_layer)\n",
    "\n",
    "    for j in range(len(images)):\n",
    "        \n",
    "\n",
    "        # Guided Backpropagation\n",
    "        save_gradient(\n",
    "            filename=osp.join(\n",
    "                output_dir,\n",
    "                \"{}-{}-guided.png\".format(j,i),\n",
    "            ),\n",
    "            gradient=gradients[j],\n",
    "        )\n",
    "\n",
    "        # Grad-CAM\n",
    "        save_gradcam(\n",
    "            filename=osp.join(\n",
    "                output_dir,\n",
    "                \"{}-{}-gradcam.png\".format(\n",
    "                    j, i                ),\n",
    "            ),\n",
    "            gcam=regions[j, 0],\n",
    "            raw_image=raw_image\n",
    "        )\n",
    "\n",
    "        # Guided Grad-CAM\n",
    "        save_gradient(\n",
    "            filename=osp.join(\n",
    "                output_dir,\n",
    "                \"{}-{}-guided_gradcam.png\".format(\n",
    "                    j,i\n",
    "                ),\n",
    "            ),\n",
    "            gradient=torch.mul(regions, gradients)[j],\n",
    "        )\n"
   ]
  },
  {
   "cell_type": "code",
   "execution_count": null,
   "metadata": {},
   "outputs": [],
   "source": []
  },
  {
   "cell_type": "code",
   "execution_count": null,
   "metadata": {},
   "outputs": [],
   "source": []
  },
  {
   "cell_type": "code",
   "execution_count": null,
   "metadata": {},
   "outputs": [],
   "source": []
  }
 ],
 "metadata": {
  "kernelspec": {
   "display_name": "Python 3",
   "language": "python",
   "name": "python3"
  },
  "language_info": {
   "codemirror_mode": {
    "name": "ipython",
    "version": 3
   },
   "file_extension": ".py",
   "mimetype": "text/x-python",
   "name": "python",
   "nbconvert_exporter": "python",
   "pygments_lexer": "ipython3",
   "version": "3.6.5"
  }
 },
 "nbformat": 4,
 "nbformat_minor": 2
}
