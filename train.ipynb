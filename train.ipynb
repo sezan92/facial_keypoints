{
 "cells": [
  {
   "cell_type": "markdown",
   "metadata": {},
   "source": [
    "# Facial Keypoint Estimation "
   ]
  },
  {
   "cell_type": "markdown",
   "metadata": {},
   "source": [
    "Here, I am working on training a model to estimate facial keypoints. I was inspired by Udacitys Computer Vision Nanodegrees Project of Keypoint Detection. The difference is, I used Facial Keypoint Dataset used in a [Kaggle Competition](https://www.kaggle.com/c/facial-keypoints-detection) ."
   ]
  },
  {
   "cell_type": "markdown",
   "metadata": {},
   "source": [
    "### Loading the Dataset"
   ]
  },
  {
   "cell_type": "markdown",
   "metadata": {},
   "source": [
    "The first step is to load the dataset. I took the help from this [kaggle notebook](https://www.kaggle.com/karanjakhar/facial-keypoint-detection)"
   ]
  },
  {
   "cell_type": "code",
   "execution_count": 6,
   "metadata": {},
   "outputs": [],
   "source": [
    "import numpy as np\n",
    "import matplotlib.pyplot as plt\n",
    "import pandas as pd\n",
    "from IPython.display import clear_output\n",
    "from time import sleep\n",
    "import os\n",
    "Train_Dir = 'training.csv'\n",
    "train_data = pd.read_csv(Train_Dir)  \n"
   ]
  },
  {
   "cell_type": "markdown",
   "metadata": {},
   "source": [
    "Lets have a look at the dataset"
   ]
  },
  {
   "cell_type": "code",
   "execution_count": 8,
   "metadata": {},
   "outputs": [
    {
     "data": {
      "text/html": [
       "<div>\n",
       "<style scoped>\n",
       "    .dataframe tbody tr th:only-of-type {\n",
       "        vertical-align: middle;\n",
       "    }\n",
       "\n",
       "    .dataframe tbody tr th {\n",
       "        vertical-align: top;\n",
       "    }\n",
       "\n",
       "    .dataframe thead th {\n",
       "        text-align: right;\n",
       "    }\n",
       "</style>\n",
       "<table border=\"1\" class=\"dataframe\">\n",
       "  <thead>\n",
       "    <tr style=\"text-align: right;\">\n",
       "      <th></th>\n",
       "      <th>left_eye_center_x</th>\n",
       "      <th>left_eye_center_y</th>\n",
       "      <th>right_eye_center_x</th>\n",
       "      <th>right_eye_center_y</th>\n",
       "      <th>left_eye_inner_corner_x</th>\n",
       "      <th>left_eye_inner_corner_y</th>\n",
       "      <th>left_eye_outer_corner_x</th>\n",
       "      <th>left_eye_outer_corner_y</th>\n",
       "      <th>right_eye_inner_corner_x</th>\n",
       "      <th>right_eye_inner_corner_y</th>\n",
       "      <th>...</th>\n",
       "      <th>nose_tip_y</th>\n",
       "      <th>mouth_left_corner_x</th>\n",
       "      <th>mouth_left_corner_y</th>\n",
       "      <th>mouth_right_corner_x</th>\n",
       "      <th>mouth_right_corner_y</th>\n",
       "      <th>mouth_center_top_lip_x</th>\n",
       "      <th>mouth_center_top_lip_y</th>\n",
       "      <th>mouth_center_bottom_lip_x</th>\n",
       "      <th>mouth_center_bottom_lip_y</th>\n",
       "      <th>Image</th>\n",
       "    </tr>\n",
       "  </thead>\n",
       "  <tbody>\n",
       "    <tr>\n",
       "      <th>0</th>\n",
       "      <td>66.033564</td>\n",
       "      <td>39.002274</td>\n",
       "      <td>30.227008</td>\n",
       "      <td>36.421678</td>\n",
       "      <td>59.582075</td>\n",
       "      <td>39.647423</td>\n",
       "      <td>73.130346</td>\n",
       "      <td>39.969997</td>\n",
       "      <td>36.356571</td>\n",
       "      <td>37.389402</td>\n",
       "      <td>...</td>\n",
       "      <td>57.066803</td>\n",
       "      <td>61.195308</td>\n",
       "      <td>79.970165</td>\n",
       "      <td>28.614496</td>\n",
       "      <td>77.388992</td>\n",
       "      <td>43.312602</td>\n",
       "      <td>72.935459</td>\n",
       "      <td>43.130707</td>\n",
       "      <td>84.485774</td>\n",
       "      <td>238 236 237 238 240 240 239 241 241 243 240 23...</td>\n",
       "    </tr>\n",
       "    <tr>\n",
       "      <th>1</th>\n",
       "      <td>64.332936</td>\n",
       "      <td>34.970077</td>\n",
       "      <td>29.949277</td>\n",
       "      <td>33.448715</td>\n",
       "      <td>58.856170</td>\n",
       "      <td>35.274349</td>\n",
       "      <td>70.722723</td>\n",
       "      <td>36.187166</td>\n",
       "      <td>36.034723</td>\n",
       "      <td>34.361532</td>\n",
       "      <td>...</td>\n",
       "      <td>55.660936</td>\n",
       "      <td>56.421447</td>\n",
       "      <td>76.352000</td>\n",
       "      <td>35.122383</td>\n",
       "      <td>76.047660</td>\n",
       "      <td>46.684596</td>\n",
       "      <td>70.266553</td>\n",
       "      <td>45.467915</td>\n",
       "      <td>85.480170</td>\n",
       "      <td>219 215 204 196 204 211 212 200 180 168 178 19...</td>\n",
       "    </tr>\n",
       "    <tr>\n",
       "      <th>2</th>\n",
       "      <td>65.057053</td>\n",
       "      <td>34.909642</td>\n",
       "      <td>30.903789</td>\n",
       "      <td>34.909642</td>\n",
       "      <td>59.412000</td>\n",
       "      <td>36.320968</td>\n",
       "      <td>70.984421</td>\n",
       "      <td>36.320968</td>\n",
       "      <td>37.678105</td>\n",
       "      <td>36.320968</td>\n",
       "      <td>...</td>\n",
       "      <td>53.538947</td>\n",
       "      <td>60.822947</td>\n",
       "      <td>73.014316</td>\n",
       "      <td>33.726316</td>\n",
       "      <td>72.732000</td>\n",
       "      <td>47.274947</td>\n",
       "      <td>70.191789</td>\n",
       "      <td>47.274947</td>\n",
       "      <td>78.659368</td>\n",
       "      <td>144 142 159 180 188 188 184 180 167 132 84 59 ...</td>\n",
       "    </tr>\n",
       "    <tr>\n",
       "      <th>3</th>\n",
       "      <td>65.225739</td>\n",
       "      <td>37.261774</td>\n",
       "      <td>32.023096</td>\n",
       "      <td>37.261774</td>\n",
       "      <td>60.003339</td>\n",
       "      <td>39.127179</td>\n",
       "      <td>72.314713</td>\n",
       "      <td>38.380967</td>\n",
       "      <td>37.618643</td>\n",
       "      <td>38.754115</td>\n",
       "      <td>...</td>\n",
       "      <td>54.166539</td>\n",
       "      <td>65.598887</td>\n",
       "      <td>72.703722</td>\n",
       "      <td>37.245496</td>\n",
       "      <td>74.195478</td>\n",
       "      <td>50.303165</td>\n",
       "      <td>70.091687</td>\n",
       "      <td>51.561183</td>\n",
       "      <td>78.268383</td>\n",
       "      <td>193 192 193 194 194 194 193 192 168 111 50 12 ...</td>\n",
       "    </tr>\n",
       "    <tr>\n",
       "      <th>4</th>\n",
       "      <td>66.725301</td>\n",
       "      <td>39.621261</td>\n",
       "      <td>32.244810</td>\n",
       "      <td>38.042032</td>\n",
       "      <td>58.565890</td>\n",
       "      <td>39.621261</td>\n",
       "      <td>72.515926</td>\n",
       "      <td>39.884466</td>\n",
       "      <td>36.982380</td>\n",
       "      <td>39.094852</td>\n",
       "      <td>...</td>\n",
       "      <td>64.889521</td>\n",
       "      <td>60.671411</td>\n",
       "      <td>77.523239</td>\n",
       "      <td>31.191755</td>\n",
       "      <td>76.997301</td>\n",
       "      <td>44.962748</td>\n",
       "      <td>73.707387</td>\n",
       "      <td>44.227141</td>\n",
       "      <td>86.871166</td>\n",
       "      <td>147 148 160 196 215 214 216 217 219 220 206 18...</td>\n",
       "    </tr>\n",
       "  </tbody>\n",
       "</table>\n",
       "<p>5 rows × 31 columns</p>\n",
       "</div>"
      ],
      "text/plain": [
       "   left_eye_center_x  left_eye_center_y  right_eye_center_x  \\\n",
       "0          66.033564          39.002274           30.227008   \n",
       "1          64.332936          34.970077           29.949277   \n",
       "2          65.057053          34.909642           30.903789   \n",
       "3          65.225739          37.261774           32.023096   \n",
       "4          66.725301          39.621261           32.244810   \n",
       "\n",
       "   right_eye_center_y  left_eye_inner_corner_x  left_eye_inner_corner_y  \\\n",
       "0           36.421678                59.582075                39.647423   \n",
       "1           33.448715                58.856170                35.274349   \n",
       "2           34.909642                59.412000                36.320968   \n",
       "3           37.261774                60.003339                39.127179   \n",
       "4           38.042032                58.565890                39.621261   \n",
       "\n",
       "   left_eye_outer_corner_x  left_eye_outer_corner_y  right_eye_inner_corner_x  \\\n",
       "0                73.130346                39.969997                 36.356571   \n",
       "1                70.722723                36.187166                 36.034723   \n",
       "2                70.984421                36.320968                 37.678105   \n",
       "3                72.314713                38.380967                 37.618643   \n",
       "4                72.515926                39.884466                 36.982380   \n",
       "\n",
       "   right_eye_inner_corner_y  \\\n",
       "0                 37.389402   \n",
       "1                 34.361532   \n",
       "2                 36.320968   \n",
       "3                 38.754115   \n",
       "4                 39.094852   \n",
       "\n",
       "                         ...                          nose_tip_y  \\\n",
       "0                        ...                           57.066803   \n",
       "1                        ...                           55.660936   \n",
       "2                        ...                           53.538947   \n",
       "3                        ...                           54.166539   \n",
       "4                        ...                           64.889521   \n",
       "\n",
       "   mouth_left_corner_x  mouth_left_corner_y  mouth_right_corner_x  \\\n",
       "0            61.195308            79.970165             28.614496   \n",
       "1            56.421447            76.352000             35.122383   \n",
       "2            60.822947            73.014316             33.726316   \n",
       "3            65.598887            72.703722             37.245496   \n",
       "4            60.671411            77.523239             31.191755   \n",
       "\n",
       "   mouth_right_corner_y  mouth_center_top_lip_x  mouth_center_top_lip_y  \\\n",
       "0             77.388992               43.312602               72.935459   \n",
       "1             76.047660               46.684596               70.266553   \n",
       "2             72.732000               47.274947               70.191789   \n",
       "3             74.195478               50.303165               70.091687   \n",
       "4             76.997301               44.962748               73.707387   \n",
       "\n",
       "   mouth_center_bottom_lip_x  mouth_center_bottom_lip_y  \\\n",
       "0                  43.130707                  84.485774   \n",
       "1                  45.467915                  85.480170   \n",
       "2                  47.274947                  78.659368   \n",
       "3                  51.561183                  78.268383   \n",
       "4                  44.227141                  86.871166   \n",
       "\n",
       "                                               Image  \n",
       "0  238 236 237 238 240 240 239 241 241 243 240 23...  \n",
       "1  219 215 204 196 204 211 212 200 180 168 178 19...  \n",
       "2  144 142 159 180 188 188 184 180 167 132 84 59 ...  \n",
       "3  193 192 193 194 194 194 193 192 168 111 50 12 ...  \n",
       "4  147 148 160 196 215 214 216 217 219 220 206 18...  \n",
       "\n",
       "[5 rows x 31 columns]"
      ]
     },
     "execution_count": 8,
     "metadata": {},
     "output_type": "execute_result"
    }
   ],
   "source": [
    "train_data.head(5)"
   ]
  },
  {
   "cell_type": "markdown",
   "metadata": {},
   "source": [
    "Its a bit big. Lets look at the column names"
   ]
  },
  {
   "cell_type": "code",
   "execution_count": 9,
   "metadata": {},
   "outputs": [
    {
     "data": {
      "text/plain": [
       "Index(['left_eye_center_x', 'left_eye_center_y', 'right_eye_center_x',\n",
       "       'right_eye_center_y', 'left_eye_inner_corner_x',\n",
       "       'left_eye_inner_corner_y', 'left_eye_outer_corner_x',\n",
       "       'left_eye_outer_corner_y', 'right_eye_inner_corner_x',\n",
       "       'right_eye_inner_corner_y', 'right_eye_outer_corner_x',\n",
       "       'right_eye_outer_corner_y', 'left_eyebrow_inner_end_x',\n",
       "       'left_eyebrow_inner_end_y', 'left_eyebrow_outer_end_x',\n",
       "       'left_eyebrow_outer_end_y', 'right_eyebrow_inner_end_x',\n",
       "       'right_eyebrow_inner_end_y', 'right_eyebrow_outer_end_x',\n",
       "       'right_eyebrow_outer_end_y', 'nose_tip_x', 'nose_tip_y',\n",
       "       'mouth_left_corner_x', 'mouth_left_corner_y', 'mouth_right_corner_x',\n",
       "       'mouth_right_corner_y', 'mouth_center_top_lip_x',\n",
       "       'mouth_center_top_lip_y', 'mouth_center_bottom_lip_x',\n",
       "       'mouth_center_bottom_lip_y', 'Image'],\n",
       "      dtype='object')"
      ]
     },
     "execution_count": 9,
     "metadata": {},
     "output_type": "execute_result"
    }
   ],
   "source": [
    "train_data.columns"
   ]
  },
  {
   "cell_type": "markdown",
   "metadata": {},
   "source": [
    "We see, the columns are the name of the facial landmarks , and the last column is the image data"
   ]
  },
  {
   "cell_type": "markdown",
   "metadata": {},
   "source": [
    "#### So we need to seperate and preprocess the image and facial landmarks"
   ]
  },
  {
   "cell_type": "markdown",
   "metadata": {},
   "source": [
    "Lets check if there are any null values"
   ]
  },
  {
   "cell_type": "code",
   "execution_count": 11,
   "metadata": {},
   "outputs": [
    {
     "data": {
      "text/plain": [
       "True     28\n",
       "False     3\n",
       "dtype: int64"
      ]
     },
     "execution_count": 11,
     "metadata": {},
     "output_type": "execute_result"
    }
   ],
   "source": [
    "train_data.isnull().any().value_counts()"
   ]
  },
  {
   "cell_type": "markdown",
   "metadata": {},
   "source": [
    "There are 28 null values"
   ]
  },
  {
   "cell_type": "code",
   "execution_count": 12,
   "metadata": {},
   "outputs": [],
   "source": [
    "train_data.fillna(method = 'ffill',inplace = True)\n",
    "#train_data.reset_index(drop = True,inplace = True"
   ]
  },
  {
   "cell_type": "markdown",
   "metadata": {},
   "source": [
    "Lets collect all the images in one list"
   ]
  },
  {
   "cell_type": "code",
   "execution_count": 13,
   "metadata": {},
   "outputs": [],
   "source": [
    "imag = []\n",
    "for i in range(0,train_data.shape[0]):\n",
    "    img = train_data['Image'][i].split(' ')\n",
    "    img = np.array(['0' if x == '' else x for x in img])\n",
    "    img = img.reshape(-1,96,96,1)\n",
    "    imag.append(img)\n"
   ]
  },
  {
   "cell_type": "code",
   "execution_count": 14,
   "metadata": {},
   "outputs": [],
   "source": [
    "image_list = np.array(imag,dtype = 'float')\n",
    "X_train = image_list.reshape(-1,96,96,1)"
   ]
  },
  {
   "cell_type": "markdown",
   "metadata": {},
   "source": [
    "Lets plot one image"
   ]
  },
  {
   "cell_type": "code",
   "execution_count": 15,
   "metadata": {},
   "outputs": [
    {
     "data": {
      "image/png": "[encoded data removed]",
      "text/plain": [
       "<Figure size 432x288 with 1 Axes>"
      ]
     },
     "metadata": {
      "needs_background": "light"
     },
     "output_type": "display_data"
    }
   ],
   "source": [
    "plt.imshow(X_train[100].reshape(96,96),cmap='gray')\n",
    "plt.show()"
   ]
  },
  {
   "cell_type": "markdown",
   "metadata": {},
   "source": [
    "Done!"
   ]
  },
  {
   "cell_type": "markdown",
   "metadata": {},
   "source": [
    "Lets get the keypoints"
   ]
  },
  {
   "cell_type": "code",
   "execution_count": 16,
   "metadata": {},
   "outputs": [],
   "source": [
    "training = train_data.drop('Image',axis = 1)\n",
    "\n",
    "y_train = []\n",
    "for i in range(0,7049):\n",
    "    y = training.iloc[i,:]\n",
    "\n",
    "    y_train.append(y)\n",
    "y_train = np.array(y_train,dtype = 'float')"
   ]
  },
  {
   "cell_type": "markdown",
   "metadata": {},
   "source": [
    "Lets do the same process for test data"
   ]
  },
  {
   "cell_type": "code",
   "execution_count": 18,
   "metadata": {},
   "outputs": [
    {
     "name": "stdout",
     "output_type": "stream",
     "text": [
      "before\n",
      "(1783, 1, 96, 96, 1)\n",
      "After\n",
      "(1783, 96, 96, 1)\n"
     ]
    }
   ],
   "source": [
    "Test_Dir = 'test.csv'\n",
    "test_data = pd.read_csv(Test_Dir)\n",
    "test_data.fillna(method = 'ffill',inplace = True)\n",
    "#train_data.reset_index(drop = True,inplace = True\n",
    "\n",
    "imag = []\n",
    "for i in range(0,test_data.shape[0]):\n",
    "    img = test_data['Image'][i].split(' ')\n",
    "    img = np.array(['0' if x == '' else x for x in img])\n",
    "    img = img.reshape(-1,96,96,1)\n",
    "    imag.append(img)\n",
    "    \n",
    "X_test = np.array(imag)\n",
    "print(\"before\")\n",
    "print(X_test.shape)\n",
    "\n",
    "X_test = X_test.reshape(-1,96,96,1)\n",
    "print(\"After\")\n",
    "print(X_test.shape)\n",
    "\n"
   ]
  },
  {
   "cell_type": "markdown",
   "metadata": {},
   "source": [
    "Lets save the images in to a pickle file"
   ]
  },
  {
   "cell_type": "code",
   "execution_count": 19,
   "metadata": {},
   "outputs": [],
   "source": [
    "import pickle"
   ]
  },
  {
   "cell_type": "code",
   "execution_count": 20,
   "metadata": {},
   "outputs": [],
   "source": [
    "pickle.dump(X_train,open(\"train_images.pkl\",\"wb\"))\n",
    "pickle.dump(y_train,open(\"train_labels.pkl\",\"wb\"))\n",
    "pickle.dump(X_test,open(\"test_images.pkl\",\"wb\"))"
   ]
  },
  {
   "cell_type": "markdown",
   "metadata": {},
   "source": [
    "### Visualize Image"
   ]
  },
  {
   "cell_type": "markdown",
   "metadata": {},
   "source": [
    "We have to visualize the image with the facial landmarks"
   ]
  },
  {
   "cell_type": "code",
   "execution_count": 21,
   "metadata": {},
   "outputs": [],
   "source": [
    "X_train = pickle.load(open(\"train_images.pkl\",\"rb\"))\n",
    "y_train = pickle.load(open(\"train_labels.pkl\",\"rb\"))"
   ]
  },
  {
   "cell_type": "markdown",
   "metadata": {},
   "source": [
    "Lets take a sample image"
   ]
  },
  {
   "cell_type": "code",
   "execution_count": 22,
   "metadata": {},
   "outputs": [
    {
     "data": {
      "text/plain": [
       "array([63.69583007, 41.80198701, 32.86046701, 40.41980434, 58.26235236,\n",
       "       42.3298851 , 69.9596772 , 42.43179593, 38.25399567, 40.92324383,\n",
       "       26.98347338, 40.03458141, 56.14862342, 33.55158196, 77.60328461,\n",
       "       33.42403661, 47.8555892 , 27.91678736, 19.25751152, 24.33053325,\n",
       "       39.98793743, 59.92543854, 59.81812037, 79.77184453, 31.19594436,\n",
       "       79.75499805, 44.58350812, 79.22635539, 44.33620174, 81.42279995])"
      ]
     },
     "execution_count": 22,
     "metadata": {},
     "output_type": "execute_result"
    }
   ],
   "source": [
    "image= X_train[1717]\n",
    "\n",
    "label= y_train[1717]\n",
    "\n",
    "label"
   ]
  },
  {
   "cell_type": "markdown",
   "metadata": {},
   "source": [
    "A function to visualize the image with label"
   ]
  },
  {
   "cell_type": "code",
   "execution_count": 23,
   "metadata": {},
   "outputs": [],
   "source": [
    "def visualize(image,label):\n",
    "    x,y=[],[]\n",
    "    for i in range(label.shape[0]):\n",
    "        if (i+1)%2==1:\n",
    "            x.append(label[i])\n",
    "        else:\n",
    "            y.append(label[i])\n",
    "\n",
    "\n",
    "    plt.imshow(image.reshape(96,96),cmap=\"gray\")\n",
    "    plt.scatter(x,y,c=\"r\")"
   ]
  },
  {
   "cell_type": "code",
   "execution_count": 24,
   "metadata": {},
   "outputs": [
    {
     "data": {
      "image/png": "[encoded data removed]",
      "text/plain": [
       "<Figure size 432x288 with 1 Axes>"
      ]
     },
     "metadata": {
      "needs_background": "light"
     },
     "output_type": "display_data"
    }
   ],
   "source": [
    "visualize(image,label)"
   ]
  },
  {
   "cell_type": "markdown",
   "metadata": {},
   "source": [
    "## Awesome!! Let start Neural Network!!"
   ]
  },
  {
   "cell_type": "markdown",
   "metadata": {},
   "source": [
    "## Training"
   ]
  },
  {
   "cell_type": "markdown",
   "metadata": {},
   "source": [
    "Importing necessary packages"
   ]
  },
  {
   "cell_type": "code",
   "execution_count": 25,
   "metadata": {},
   "outputs": [],
   "source": [
    "import torch\n",
    "from torch.autograd import Variable\n",
    "import torch.nn as nn\n",
    "import torch.nn.functional as F"
   ]
  },
  {
   "cell_type": "markdown",
   "metadata": {},
   "source": [
    "Fixing the random seed"
   ]
  },
  {
   "cell_type": "code",
   "execution_count": 26,
   "metadata": {},
   "outputs": [],
   "source": [
    "SEED=1001"
   ]
  },
  {
   "cell_type": "code",
   "execution_count": 27,
   "metadata": {},
   "outputs": [],
   "source": [
    "torch.manual_seed(SEED)\n",
    "np.random.seed(SEED)"
   ]
  },
  {
   "cell_type": "markdown",
   "metadata": {},
   "source": [
    "Some Hyperparameters"
   ]
  },
  {
   "cell_type": "code",
   "execution_count": 28,
   "metadata": {},
   "outputs": [],
   "source": [
    "BATCH_SIZE=128\n",
    "\n",
    "EPOCHS=100"
   ]
  },
  {
   "cell_type": "markdown",
   "metadata": {},
   "source": [
    "Here , I defined a simple four layer Convolutional neural network. It is just for baseline model. My intention was to to make a full pipeline first and then increase the complexity if necessary . Also to visualize the layers if they really can extract the features."
   ]
  },
  {
   "cell_type": "markdown",
   "metadata": {},
   "source": [
    "### Model"
   ]
  },
  {
   "cell_type": "markdown",
   "metadata": {},
   "source": [
    "The problem is a regression problem. It detects the x,y coordinates of 15 keypoints. Hence the output size is ```(30,)```."
   ]
  },
  {
   "cell_type": "code",
   "execution_count": 29,
   "metadata": {},
   "outputs": [],
   "source": [
    "class SezanNet(nn.Module):\n",
    "    def __init__(self):\n",
    "        super(SezanNet, self).__init__()\n",
    "        self.conv1 = nn.Conv2d(in_channels=1, out_channels=32, kernel_size=(4, 4),stride=2) ## 32x47x47\n",
    "        self.dropout=nn.Dropout()\n",
    "        self.conv2 = nn.Conv2d(in_channels=32, out_channels=64, kernel_size=(4, 4),stride=2) # 64x22x22\n",
    "        self.conv3 = nn.Conv2d(in_channels=64,out_channels=128,kernel_size=(3,3),stride=2) # 128x10x10\n",
    "        self.conv4 = nn.Conv2d(in_channels=128,out_channels=256,kernel_size=(1,1),stride=2) # 256x5x5\n",
    "        \n",
    "        self.relu = nn.ReLU()\n",
    "        self.fc1 = nn.Linear(in_features=256*5*5,out_features=30)\n",
    "        \n",
    "    def forward(self,x):\n",
    "        x = self.dropout(self.relu(self.conv1(x)))\n",
    "        x = self.dropout(self.relu(self.conv2(x)))\n",
    "        x = self.dropout(self.relu(self.conv3(x)))\n",
    "        x = self.dropout(self.relu(self.conv4(x)))\n",
    "        x = x.view(x.size(0),-1)\n",
    "        x = self.fc1(x)\n",
    "        return x\n",
    "        "
   ]
  },
  {
   "cell_type": "code",
   "execution_count": 30,
   "metadata": {},
   "outputs": [],
   "source": [
    "net = SezanNet()"
   ]
  },
  {
   "cell_type": "markdown",
   "metadata": {},
   "source": [
    "Importing Data"
   ]
  },
  {
   "cell_type": "markdown",
   "metadata": {},
   "source": [
    "## But Hold on!"
   ]
  },
  {
   "cell_type": "markdown",
   "metadata": {},
   "source": [
    "I got this idea ( actually i copied from Computer Vision Nanodegree) , of making a seperate script ```data_load.py``` only for data loading. I am not showing the full process . But it is sufficient to say that , the script has three classes"
   ]
  },
  {
   "cell_type": "markdown",
   "metadata": {},
   "source": [
    "- ```Normalize``` it normalizes the image from 0.0 to 1.0 and keypoints from -1.0 to 1.0\n",
    "- ```Totensor``` it converts images as well keypoints to pytorch tensor\n",
    "- ``` FacialKeypointsDataset``` - it takes the images and labels pickle files and transforms them all according to transform classes. "
   ]
  },
  {
   "cell_type": "markdown",
   "metadata": {},
   "source": [
    "You can get some examples [here](https://pytorch.org/tutorials/beginner/data_loading_tutorial.html)"
   ]
  },
  {
   "cell_type": "code",
   "execution_count": 31,
   "metadata": {},
   "outputs": [],
   "source": [
    "from data_load import *"
   ]
  },
  {
   "cell_type": "code",
   "execution_count": 32,
   "metadata": {},
   "outputs": [],
   "source": [
    "train_data_transform = transforms.Compose([Normalize(), \\\n",
    "                                           ToTensor()])"
   ]
  },
  {
   "cell_type": "code",
   "execution_count": 33,
   "metadata": {},
   "outputs": [],
   "source": [
    "dataset = FacialKeypointsDataset(\"train_images.pkl\",\"train_labels.pkl\",transform=train_data_transform)"
   ]
  },
  {
   "cell_type": "markdown",
   "metadata": {},
   "source": [
    "Splitting to train and test result"
   ]
  },
  {
   "cell_type": "code",
   "execution_count": 34,
   "metadata": {},
   "outputs": [],
   "source": [
    "from sklearn.model_selection import train_test_split"
   ]
  },
  {
   "cell_type": "code",
   "execution_count": 35,
   "metadata": {},
   "outputs": [],
   "source": [
    "train_data,val_data=train_test_split(dataset,test_size=0.2)"
   ]
  },
  {
   "cell_type": "markdown",
   "metadata": {},
   "source": [
    "Dataloader generator"
   ]
  },
  {
   "cell_type": "code",
   "execution_count": 36,
   "metadata": {},
   "outputs": [],
   "source": [
    "from torch.utils.data import Dataset, DataLoader"
   ]
  },
  {
   "cell_type": "code",
   "execution_count": 37,
   "metadata": {},
   "outputs": [],
   "source": [
    "train_loader=DataLoader(train_data,batch_size=BATCH_SIZE,shuffle=True)"
   ]
  },
  {
   "cell_type": "code",
   "execution_count": 38,
   "metadata": {},
   "outputs": [],
   "source": [
    "validation_loader= DataLoader(val_data,batch_size=BATCH_SIZE,shuffle=True)"
   ]
  },
  {
   "cell_type": "markdown",
   "metadata": {},
   "source": []
  },
  {
   "cell_type": "code",
   "execution_count": 39,
   "metadata": {},
   "outputs": [],
   "source": [
    "from torch.autograd import Variable"
   ]
  },
  {
   "cell_type": "code",
   "execution_count": 40,
   "metadata": {},
   "outputs": [],
   "source": [
    "import torch.optim as optim"
   ]
  },
  {
   "cell_type": "code",
   "execution_count": 41,
   "metadata": {},
   "outputs": [],
   "source": [
    "criterion = nn.MSELoss()"
   ]
  },
  {
   "cell_type": "code",
   "execution_count": 42,
   "metadata": {},
   "outputs": [],
   "source": [
    "optimizer = optim.Adam(net.parameters(), lr=0.001)"
   ]
  },
  {
   "cell_type": "markdown",
   "metadata": {},
   "source": [
    "Training "
   ]
  },
  {
   "cell_type": "code",
   "execution_count": 43,
   "metadata": {},
   "outputs": [
    {
     "name": "stderr",
     "output_type": "stream",
     "text": [
      "/usr/local/lib/python3.6/site-packages/ipykernel_launcher.py:17: UserWarning: invalid index of a 0-dim tensor. This will be an error in PyTorch 0.5. Use tensor.item() to convert a 0-dim tensor to a Python number\n",
      "/usr/local/lib/python3.6/site-packages/ipykernel_launcher.py:30: UserWarning: invalid index of a 0-dim tensor. This will be an error in PyTorch 0.5. Use tensor.item() to convert a 0-dim tensor to a Python number\n"
     ]
    },
    {
     "name": "stdout",
     "output_type": "stream",
     "text": [
      "train loss 5.425237655639648 , validation loss 3.8939077854156494\n",
      "train loss 3.9826440811157227 , validation loss 3.7200019359588623\n",
      "train loss 3.9659817218780518 , validation loss 3.7740650177001953\n",
      "train loss 3.9442718029022217 , validation loss 3.808095932006836\n",
      "train loss 3.922896385192871 , validation loss 3.700185775756836\n",
      "train loss 3.8800809383392334 , validation loss 3.7662575244903564\n",
      "train loss 3.8388638496398926 , validation loss 3.619922637939453\n",
      "train loss 3.7563650608062744 , validation loss 3.506974935531616\n",
      "train loss 3.6804325580596924 , validation loss 3.4494895935058594\n",
      "train loss 3.622939348220825 , validation loss 3.35968279838562\n",
      "train loss 3.537247657775879 , validation loss 3.3125455379486084\n",
      "train loss 3.4457898139953613 , validation loss 3.2589786052703857\n",
      "train loss 3.383971929550171 , validation loss 3.0803232192993164\n",
      "train loss 3.3441357612609863 , validation loss 3.04178786277771\n",
      "train loss 3.319330930709839 , validation loss 3.076205253601074\n",
      "train loss 3.2813069820404053 , validation loss 3.0077173709869385\n",
      "train loss 3.265842914581299 , validation loss 3.2337818145751953\n",
      "train loss 3.2375996112823486 , validation loss 3.0629327297210693\n",
      "train loss 3.208923578262329 , validation loss 3.0416555404663086\n",
      "train loss 3.1732380390167236 , validation loss 2.9472620487213135\n",
      "train loss 3.157954216003418 , validation loss 2.949187994003296\n",
      "train loss 3.1411375999450684 , validation loss 2.9549710750579834\n",
      "train loss 3.1253421306610107 , validation loss 2.927802324295044\n",
      "train loss 3.1084532737731934 , validation loss 3.0862462520599365\n",
      "train loss 3.1061744689941406 , validation loss 2.975170850753784\n",
      "train loss 3.106091022491455 , validation loss 2.856614112854004\n",
      "train loss 3.0634639263153076 , validation loss 3.016416549682617\n",
      "train loss 3.0432448387145996 , validation loss 2.933286428451538\n",
      "train loss 3.030418872833252 , validation loss 2.877021551132202\n",
      "train loss 3.0282084941864014 , validation loss 2.8490371704101562\n",
      "train loss 3.0325286388397217 , validation loss 2.853555679321289\n",
      "train loss 3.0381109714508057 , validation loss 3.0146563053131104\n",
      "train loss 3.016242027282715 , validation loss 2.7567574977874756\n",
      "train loss 3.0050241947174072 , validation loss 2.895277261734009\n",
      "train loss 2.988123893737793 , validation loss 2.8342654705047607\n",
      "train loss 2.9882636070251465 , validation loss 2.7939417362213135\n",
      "train loss 2.9727416038513184 , validation loss 2.9796302318573\n",
      "train loss 2.9797611236572266 , validation loss 2.7760326862335205\n",
      "train loss 2.9760663509368896 , validation loss 2.8358542919158936\n",
      "train loss 2.9660208225250244 , validation loss 2.8890163898468018\n",
      "train loss 2.9585134983062744 , validation loss 2.896223783493042\n",
      "train loss 2.9499399662017822 , validation loss 2.7742865085601807\n",
      "train loss 2.9291110038757324 , validation loss 2.7883126735687256\n",
      "train loss 2.9365837574005127 , validation loss 3.0206029415130615\n",
      "train loss 2.9413442611694336 , validation loss 2.809206247329712\n",
      "train loss 2.9380855560302734 , validation loss 2.7912709712982178\n",
      "train loss 2.9286677837371826 , validation loss 2.7881956100463867\n",
      "train loss 2.9188692569732666 , validation loss 2.8298656940460205\n",
      "train loss 2.915041446685791 , validation loss 2.7835710048675537\n",
      "train loss 2.898670196533203 , validation loss 2.717679977416992\n",
      "train loss 2.891162395477295 , validation loss 2.7501237392425537\n",
      "train loss 2.891622543334961 , validation loss 2.7899935245513916\n",
      "train loss 2.8966169357299805 , validation loss 2.8692080974578857\n",
      "train loss 2.881467580795288 , validation loss 2.836939811706543\n",
      "train loss 2.8737008571624756 , validation loss 2.8376893997192383\n",
      "train loss 2.8766493797302246 , validation loss 2.8025715351104736\n",
      "train loss 2.851918935775757 , validation loss 2.707432508468628\n",
      "train loss 2.8505139350891113 , validation loss 2.8986942768096924\n",
      "train loss 2.8560967445373535 , validation loss 2.7655723094940186\n",
      "train loss 2.829793930053711 , validation loss 2.9476335048675537\n",
      "train loss 2.850368022918701 , validation loss 2.829697370529175\n",
      "train loss 2.858083486557007 , validation loss 2.776062250137329\n",
      "train loss 2.8635566234588623 , validation loss 2.7491672039031982\n",
      "train loss 2.848045825958252 , validation loss 2.712719678878784\n",
      "train loss 2.843352794647217 , validation loss 2.7817611694335938\n",
      "train loss 2.825275421142578 , validation loss 2.713456869125366\n",
      "train loss 2.8239686489105225 , validation loss 2.689215660095215\n",
      "train loss 2.812502145767212 , validation loss 2.7039153575897217\n",
      "train loss 2.815408229827881 , validation loss 2.858944892883301\n",
      "train loss 2.817307710647583 , validation loss 3.0894386768341064\n",
      "train loss 2.830634355545044 , validation loss 2.6975975036621094\n",
      "train loss 2.8166542053222656 , validation loss 2.802992582321167\n",
      "train loss 2.803333282470703 , validation loss 2.751505136489868\n",
      "train loss 2.785895347595215 , validation loss 2.9604785442352295\n",
      "train loss 2.788135290145874 , validation loss 2.723773717880249\n",
      "train loss 2.785355567932129 , validation loss 2.6629910469055176\n",
      "train loss 2.7883992195129395 , validation loss 2.6921465396881104\n",
      "train loss 2.7980244159698486 , validation loss 2.6780617237091064\n",
      "train loss 2.7924506664276123 , validation loss 2.7146503925323486\n",
      "train loss 2.756983518600464 , validation loss 2.7129361629486084\n",
      "train loss 2.779189109802246 , validation loss 2.669135093688965\n",
      "train loss 2.7842793464660645 , validation loss 2.821007013320923\n",
      "train loss 2.7794337272644043 , validation loss 2.706434965133667\n",
      "train loss 2.750030994415283 , validation loss 2.746302366256714\n",
      "train loss 2.7764477729797363 , validation loss 2.6850740909576416\n",
      "train loss 2.756556749343872 , validation loss 2.687755584716797\n",
      "train loss 2.760605812072754 , validation loss 2.805509567260742\n",
      "train loss 2.761059045791626 , validation loss 2.6881396770477295\n",
      "train loss 2.753006935119629 , validation loss 2.763848304748535\n",
      "train loss 2.740943193435669 , validation loss 2.7135117053985596\n",
      "train loss 2.7341177463531494 , validation loss 2.8102972507476807\n",
      "train loss 2.7550344467163086 , validation loss 2.6504886150360107\n",
      "train loss 2.7519311904907227 , validation loss 2.9423024654388428\n",
      "train loss 2.7594923973083496 , validation loss 2.6570122241973877\n",
      "train loss 2.751809597015381 , validation loss 2.7266156673431396\n",
      "train loss 2.7333316802978516 , validation loss 2.806152105331421\n",
      "train loss 2.7397658824920654 , validation loss 2.7984392642974854\n",
      "train loss 2.726048469543457 , validation loss 2.7089881896972656\n",
      "train loss 2.7385780811309814 , validation loss 2.7740771770477295\n",
      "train loss 2.7270455360412598 , validation loss 2.7067394256591797\n"
     ]
    }
   ],
   "source": [
    "losses=[]\n",
    "validation_losses=[]\n",
    "for epoch in range(EPOCHS):\n",
    "    loss_sum=0\n",
    "    val_loss_sum=0\n",
    "    net.train()\n",
    "    for iteration_train,batch_data in enumerate(train_loader):\n",
    "        images=batch_data[\"image\"]\n",
    "        keypoints=batch_data[\"keypoints\"]\n",
    "        images= Variable(images)\n",
    "        keypoints=Variable(keypoints)\n",
    "        images=images.float()\n",
    "        keypoints=keypoints.float()\n",
    "        output_keypoints=net(images)\n",
    "        loss = torch.sqrt(criterion(keypoints, output_keypoints))\n",
    "        optimizer.zero_grad()\n",
    "        loss_sum+=loss.data[0]\n",
    "        loss.backward()\n",
    "        optimizer.step()\n",
    "    net.eval()\n",
    "    for iteration_val,batch_data in enumerate(validation_loader):\n",
    "        images=batch_data[\"image\"]\n",
    "        keypoints=batch_data[\"keypoints\"]\n",
    "        images= Variable(images)\n",
    "        keypoints=Variable(keypoints)\n",
    "        images=images.float()\n",
    "        keypoints=keypoints.float()\n",
    "        output_keypoints=net(images)\n",
    "        loss = torch.sqrt(criterion(keypoints, output_keypoints))\n",
    "        val_loss_sum+=loss.data[0]\n",
    "        \n",
    "    \n",
    "    print(\"train loss {} , validation loss {}\".format(loss_sum/(iteration_train+1),val_loss_sum/(iteration_val+1)))\n",
    "    losses.append(loss_sum/(iteration_train+1))\n",
    "    validation_losses.append(val_loss_sum/(iteration_val+1))"
   ]
  },
  {
   "cell_type": "code",
   "execution_count": 46,
   "metadata": {},
   "outputs": [
    {
     "data": {
      "text/plain": [
       "<matplotlib.legend.Legend at 0x7f124f15b588>"
      ]
     },
     "execution_count": 46,
     "metadata": {},
     "output_type": "execute_result"
    },
    {
     "data": {
      "image/png": "[encoded data removed]",
      "text/plain": [
       "<Figure size 432x288 with 1 Axes>"
      ]
     },
     "metadata": {
      "needs_background": "light"
     },
     "output_type": "display_data"
    }
   ],
   "source": [
    "plt.plot(losses,label=\"train loss\")\n",
    "plt.plot(validation_losses,label=\"validation loss\")\n",
    "plt.title(\"Train loss and Validation loss\")\n",
    "plt.xlabel(\"Epochs\")\n",
    "plt.ylabel(\"Loss\")\n",
    "plt.legend()"
   ]
  },
  {
   "cell_type": "markdown",
   "metadata": {},
   "source": [
    "## Test a sample"
   ]
  },
  {
   "cell_type": "code",
   "execution_count": 47,
   "metadata": {},
   "outputs": [],
   "source": [
    "sample=val_data[454]"
   ]
  },
  {
   "cell_type": "code",
   "execution_count": 48,
   "metadata": {},
   "outputs": [],
   "source": [
    "image=sample[\"image\"].data.numpy()\n",
    "keypoints=sample[\"keypoints\"].data.numpy()"
   ]
  },
  {
   "cell_type": "code",
   "execution_count": 49,
   "metadata": {},
   "outputs": [],
   "source": [
    "keypoints = keypoints*48+48"
   ]
  },
  {
   "cell_type": "code",
   "execution_count": 50,
   "metadata": {},
   "outputs": [
    {
     "data": {
      "image/png": "[encoded data removed]",
      "text/plain": [
       "<Figure size 432x288 with 1 Axes>"
      ]
     },
     "metadata": {
      "needs_background": "light"
     },
     "output_type": "display_data"
    }
   ],
   "source": [
    "visualize(image,keypoints)"
   ]
  },
  {
   "cell_type": "markdown",
   "metadata": {},
   "source": [
    "Prediction"
   ]
  },
  {
   "cell_type": "code",
   "execution_count": 51,
   "metadata": {},
   "outputs": [],
   "source": [
    "image_tensor=torch.from_numpy(image.reshape(-1,1,96,96)).float()\n",
    "net.eval()\n",
    "predicted_keypoints=net(image_tensor)\n",
    "\n",
    "predicted_keypoints=predicted_keypoints*48+48\n",
    "\n",
    "predicted_keypoints=predicted_keypoints.data.numpy()"
   ]
  },
  {
   "cell_type": "code",
   "execution_count": 52,
   "metadata": {},
   "outputs": [
    {
     "data": {
      "image/png": "[encoded data removed]",
      "text/plain": [
       "<Figure size 432x288 with 1 Axes>"
      ]
     },
     "metadata": {
      "needs_background": "light"
     },
     "output_type": "display_data"
    }
   ],
   "source": [
    "visualize(image,predicted_keypoints[0])"
   ]
  },
  {
   "cell_type": "markdown",
   "metadata": {},
   "source": [
    "Lets make a function to visualize both prediction and actual keypoints "
   ]
  },
  {
   "cell_type": "code",
   "execution_count": 55,
   "metadata": {},
   "outputs": [],
   "source": [
    "def visualize(image,label,prediction):\n",
    "    x,y,x_pred,y_pred=[],[],[],[]\n",
    "    for i in range(label.shape[0]):\n",
    "        if (i+1)%2==1:\n",
    "            x.append(label[i])\n",
    "        else:\n",
    "            y.append(label[i])\n",
    "    for i in range(prediction.shape[0]):\n",
    "        if (i+1)%2==1:\n",
    "            x_pred.append(prediction[i])\n",
    "        else:\n",
    "            y_pred.append(prediction[i])\n",
    "\n",
    "\n",
    "    plt.imshow(image.reshape(96,96),cmap=\"gray\")\n",
    "    plt.scatter(x,y,c=\"r\")\n",
    "    plt.scatter(x_pred,y_pred,c=\"b\")"
   ]
  },
  {
   "cell_type": "code",
   "execution_count": 56,
   "metadata": {},
   "outputs": [
    {
     "data": {
      "image/png": "[encoded data removed]",
      "text/plain": [
       "<Figure size 432x288 with 1 Axes>"
      ]
     },
     "metadata": {
      "needs_background": "light"
     },
     "output_type": "display_data"
    }
   ],
   "source": [
    "visualize(image,keypoints,predicted_keypoints[0])"
   ]
  },
  {
   "cell_type": "markdown",
   "metadata": {},
   "source": [
    "### Saving the model "
   ]
  },
  {
   "cell_type": "code",
   "execution_count": 57,
   "metadata": {},
   "outputs": [],
   "source": [
    "torch.save(net.state_dict(),\"network_state_dict.pkl\")"
   ]
  },
  {
   "cell_type": "markdown",
   "metadata": {},
   "source": [
    "## Visualize the feature!"
   ]
  },
  {
   "cell_type": "markdown",
   "metadata": {},
   "source": [
    "Another thing, I learned from the nanodeegree project is the Feature visualization . i.e. to visualize the features captured by each layer. But I thought, what If I could do more! I thought about using [GradCAM](https://arxiv.org/abs/1610.02391) in keypoint detection!!!"
   ]
  },
  {
   "cell_type": "markdown",
   "metadata": {},
   "source": [
    "### What is Grad-cam?"
   ]
  },
  {
   "cell_type": "markdown",
   "metadata": {},
   "source": [
    "For people like me , In simple terms, Gradcam is some lines of codes to show which features or parts of the images **activates** to a particular layer when you feed into it. The most famouse example is this following image"
   ]
  },
  {
   "cell_type": "markdown",
   "metadata": {},
   "source": [
    "![image](newgcam_heatmap_overlaid_283_cat_dog.png)"
   ]
  },
  {
   "cell_type": "markdown",
   "metadata": {},
   "source": [
    "I used [this repository](https://github.com/jacobgil/pytorch-grad-cam) for my purpose!. But Obviously, I made some changes!"
   ]
  },
  {
   "cell_type": "markdown",
   "metadata": {},
   "source": [
    "### Lets Go Grad-Cam!!"
   ]
  },
  {
   "cell_type": "markdown",
   "metadata": {},
   "source": [
    "utility functions"
   ]
  },
  {
   "cell_type": "code",
   "execution_count": 75,
   "metadata": {},
   "outputs": [],
   "source": [
    "import IPython"
   ]
  },
  {
   "cell_type": "code",
   "execution_count": 88,
   "metadata": {},
   "outputs": [],
   "source": [
    "def imshow(img):\n",
    "    _,ret = cv2.imencode('.jpg', img) \n",
    "    i = IPython.display.Image(data=ret)\n",
    "    IPython.display.display(i)\n",
    "    "
   ]
  },
  {
   "cell_type": "code",
   "execution_count": 170,
   "metadata": {},
   "outputs": [],
   "source": [
    "def show_gradient(gradient):\n",
    "    gradient = gradient.cpu().numpy().transpose(1, 2, 0)\n",
    "    gradient -= gradient.min()\n",
    "    gradient /= gradient.max()\n",
    "    gradient *= 255.0\n",
    "    plt.imshow(gradient.reshape(96,96),cmap=\"gray\")\n",
    "\n",
    "\n",
    "def show_gradcam(gcam, raw_image, paper_cmap=True):\n",
    "    gcam = gcam.cpu().numpy()\n",
    "    cmap = cm.jet_r(gcam)[..., :3] * 255.0\n",
    "    raw_image=raw_image*255.0\n",
    "    #cmap = cmap.reshape(96,96)\n",
    "    raw_image=raw_image.reshape(96,96,1)\n",
    "    if paper_cmap:\n",
    "        alpha = gcam[..., None]\n",
    "        gcam = alpha * cmap + (1 - alpha) * raw_image\n",
    "    else:\n",
    "        gcam = (cmap.astype(np.float) + raw_image.astype(np.float)) / 2\n",
    "    plt.imshow(gcam)\n"
   ]
  },
  {
   "cell_type": "code",
   "execution_count": 58,
   "metadata": {},
   "outputs": [],
   "source": [
    "class _BaseWrapper(object):\n",
    "    def __init__(self, model):\n",
    "        super(_BaseWrapper, self).__init__()\n",
    "        self.device = next(model.parameters()).device\n",
    "        self.model = model\n",
    "        self.handlers = []  # a set of hook function handlers\n",
    "\n",
    "    def _encode_one_hot(self, ids):\n",
    "        one_hot = torch.zeros_like(self.logits).to(self.device)\n",
    "        one_hot.scatter_(1, ids, 1.0)\n",
    "        return one_hot\n",
    "\n",
    "    def forward(self, image):\n",
    "        self.image_shape = image.shape[2:]\n",
    "        self.logits = self.model(image)\n",
    "        \n",
    "        return self.logits   # ordered results\n",
    "\n",
    "    def backward(self, ids):\n",
    "        \"\"\"\n",
    "        Class-specific backpropagation\n",
    "        \"\"\"\n",
    "        \n",
    "        self.model.zero_grad()\n",
    "        self.logits.backward(gradient=ids, retain_graph=True)\n",
    "\n",
    "    def generate(self):\n",
    "        raise NotImplementedError\n",
    "\n",
    "    def remove_hook(self):\n",
    "        \"\"\"\n",
    "        Remove all the forward/backward hook functions\n",
    "        \"\"\"\n",
    "        for handle in self.handlers:\n",
    "            handle.remove()\n",
    "\n"
   ]
  },
  {
   "cell_type": "markdown",
   "metadata": {},
   "source": [
    "This is the parent class of all GradCam classes. I changed the ```forward``` method such that , it will not output one hot encoded outputs! ***Why?*** . Because It is a regression problem , it doesnt need one hot encoded outputs!! So changed the ```line 17``` to  "
   ]
  },
  {
   "cell_type": "raw",
   "metadata": {},
   "source": [
    "return self.logits"
   ]
  },
  {
   "cell_type": "markdown",
   "metadata": {},
   "source": [
    "#### Backpropagation Class"
   ]
  },
  {
   "cell_type": "code",
   "execution_count": 59,
   "metadata": {},
   "outputs": [],
   "source": [
    "class BackPropagation(_BaseWrapper):\n",
    "    def forward(self, image):\n",
    "        self.image = image.requires_grad_()\n",
    "        return super(BackPropagation, self).forward(self.image)\n",
    "\n",
    "    def generate(self):\n",
    "        gradient = self.image.grad.clone()\n",
    "        self.image.grad.zero_()\n",
    "        return gradient\n"
   ]
  },
  {
   "cell_type": "code",
   "execution_count": 64,
   "metadata": {},
   "outputs": [],
   "source": [
    "bp = BackPropagation(model=net)\n",
    "keypoints = bp.forward(image_tensor)  # sorted"
   ]
  },
  {
   "cell_type": "code",
   "execution_count": 70,
   "metadata": {},
   "outputs": [],
   "source": [
    "bp.backward(ids=keypoints)\n",
    "gradients = bp.generate()"
   ]
  },
  {
   "cell_type": "code",
   "execution_count": 94,
   "metadata": {},
   "outputs": [
    {
     "data": {
      "image/png": "[encoded data removed]",
      "text/plain": [
       "<Figure size 432x288 with 1 Axes>"
      ]
     },
     "metadata": {
      "needs_background": "light"
     },
     "output_type": "display_data"
    }
   ],
   "source": [
    "show_gradient(gradients[0])"
   ]
  },
  {
   "cell_type": "markdown",
   "metadata": {},
   "source": [
    "I dont think we can get some intuition from this map! "
   ]
  },
  {
   "cell_type": "markdown",
   "metadata": {},
   "source": [
    "### Lets try GradCAM!"
   ]
  },
  {
   "cell_type": "code",
   "execution_count": 109,
   "metadata": {},
   "outputs": [],
   "source": [
    "import matplotlib.cm as cm"
   ]
  },
  {
   "cell_type": "code",
   "execution_count": 95,
   "metadata": {},
   "outputs": [],
   "source": [
    "class GradCAM(_BaseWrapper):\n",
    "    \"\"\"\n",
    "    \"Grad-CAM: Visual Explanations from Deep Networks via Gradient-based Localization\"\n",
    "    https://arxiv.org/pdf/1610.02391.pdf\n",
    "    Look at Figure 2 on page 4\n",
    "    \"\"\"\n",
    "\n",
    "    def __init__(self, model, candidate_layers=None):\n",
    "        super(GradCAM, self).__init__(model)\n",
    "        self.fmap_pool = {}\n",
    "        self.grad_pool = {}\n",
    "        self.candidate_layers = candidate_layers  # list\n",
    "\n",
    "        def save_fmaps(key):\n",
    "            def forward_hook(module, input, output):\n",
    "                self.fmap_pool[key] = output.detach()\n",
    "\n",
    "            return forward_hook\n",
    "\n",
    "        def save_grads(key):\n",
    "            def backward_hook(module, grad_in, grad_out):\n",
    "                self.grad_pool[key] = grad_out[0].detach()\n",
    "\n",
    "            return backward_hook\n",
    "\n",
    "        # If any candidates are not specified, the hook is registered to all the layers.\n",
    "        for name, module in self.model.named_modules():\n",
    "            if self.candidate_layers is None or name in self.candidate_layers:\n",
    "                self.handlers.append(module.register_forward_hook(save_fmaps(name)))\n",
    "                self.handlers.append(module.register_backward_hook(save_grads(name)))\n",
    "\n",
    "    def _find(self, pool, target_layer):\n",
    "        if target_layer in pool.keys():\n",
    "            return pool[target_layer]\n",
    "        else:\n",
    "            raise ValueError(\"Invalid layer name: {}\".format(target_layer))\n",
    "\n",
    "    def generate(self, target_layer):\n",
    "        fmaps = self._find(self.fmap_pool, target_layer)\n",
    "        grads = self._find(self.grad_pool, target_layer)\n",
    "        weights = F.adaptive_avg_pool2d(grads, 1)\n",
    "\n",
    "        gcam = torch.mul(fmaps, weights).sum(dim=1, keepdim=True)\n",
    "        gcam = F.relu(gcam)\n",
    "        gcam = F.interpolate(\n",
    "            gcam, self.image_shape, mode=\"bilinear\", align_corners=False\n",
    "        )\n",
    "\n",
    "        B, C, H, W = gcam.shape\n",
    "        gcam = gcam.view(B, -1)\n",
    "        gcam -= gcam.min(dim=1, keepdim=True)[0]\n",
    "        gcam /= gcam.max(dim=1, keepdim=True)[0]\n",
    "        gcam = gcam.view(B, C, H, W)\n",
    "\n",
    "        return gcam\n"
   ]
  },
  {
   "cell_type": "code",
   "execution_count": 179,
   "metadata": {},
   "outputs": [],
   "source": [
    "gcam = GradCAM(model=net)\n",
    "_ = gcam.forward(image_tensor)\n",
    "gcam.backward(keypoints)"
   ]
  },
  {
   "cell_type": "markdown",
   "metadata": {},
   "source": [
    "for generate method we need a name for ```target layer```"
   ]
  },
  {
   "cell_type": "code",
   "execution_count": 180,
   "metadata": {},
   "outputs": [
    {
     "name": "stdout",
     "output_type": "stream",
     "text": [
      "\n",
      "conv1\n",
      "dropout\n",
      "conv2\n",
      "conv3\n",
      "conv4\n",
      "relu\n",
      "fc1\n"
     ]
    }
   ],
   "source": [
    "for name,module in net.named_modules():\n",
    "    print(name)"
   ]
  },
  {
   "cell_type": "markdown",
   "metadata": {},
   "source": [
    "let's check first layer ***conv1***"
   ]
  },
  {
   "cell_type": "code",
   "execution_count": 181,
   "metadata": {},
   "outputs": [],
   "source": [
    "regions = gcam.generate(target_layer=\"conv1\")"
   ]
  },
  {
   "cell_type": "markdown",
   "metadata": {},
   "source": [
    "Lets plot the generated region"
   ]
  },
  {
   "cell_type": "code",
   "execution_count": 182,
   "metadata": {},
   "outputs": [
    {
     "data": {
      "text/plain": [
       "<matplotlib.image.AxesImage at 0x7f124d120fd0>"
      ]
     },
     "execution_count": 182,
     "metadata": {},
     "output_type": "execute_result"
    },
    {
     "data": {
      "image/png": "[encoded data removed]",
      "text/plain": [
       "<Figure size 432x288 with 1 Axes>"
      ]
     },
     "metadata": {
      "needs_background": "light"
     },
     "output_type": "display_data"
    }
   ],
   "source": [
    "gcam=regions[0,0].cpu().numpy()\n",
    "\n",
    "plt.imshow(gcam,cmap=\"gray\")"
   ]
  },
  {
   "cell_type": "markdown",
   "metadata": {},
   "source": [
    "Lets get the colormap"
   ]
  },
  {
   "cell_type": "code",
   "execution_count": 183,
   "metadata": {},
   "outputs": [],
   "source": [
    "cmap = cm.jet_r(gcam)[..., :3] "
   ]
  },
  {
   "cell_type": "code",
   "execution_count": 184,
   "metadata": {},
   "outputs": [],
   "source": [
    "result=(cmap.astype(np.float) + image.reshape(96,96,1).astype(np.float)) /2"
   ]
  },
  {
   "cell_type": "code",
   "execution_count": 185,
   "metadata": {},
   "outputs": [
    {
     "data": {
      "text/plain": [
       "<matplotlib.image.AxesImage at 0x7f124d073b00>"
      ]
     },
     "execution_count": 185,
     "metadata": {},
     "output_type": "execute_result"
    },
    {
     "data": {
      "image/png": "[encoded data removed]",
      "text/plain": [
       "<Figure size 432x288 with 1 Axes>"
      ]
     },
     "metadata": {
      "needs_background": "light"
     },
     "output_type": "display_data"
    }
   ],
   "source": [
    "plt.imshow(result,cmap=\"gray\")"
   ]
  },
  {
   "cell_type": "markdown",
   "metadata": {},
   "source": [
    "We see the keypoint areas or the areas adjacent to landmarks are activated! But there are other areas as well! Why them ? Most likely, using more robust network, will not activate them! "
   ]
  },
  {
   "cell_type": "code",
   "execution_count": null,
   "metadata": {},
   "outputs": [],
   "source": []
  }
 ],
 "metadata": {
  "kernelspec": {
   "display_name": "Python 3",
   "language": "python",
   "name": "python3"
  },
  "language_info": {
   "codemirror_mode": {
    "name": "ipython",
    "version": 3
   },
   "file_extension": ".py",
   "mimetype": "text/x-python",
   "name": "python",
   "nbconvert_exporter": "python",
   "pygments_lexer": "ipython3",
   "version": "3.6.5"
  }
 },
 "nbformat": 4,
 "nbformat_minor": 2
}
